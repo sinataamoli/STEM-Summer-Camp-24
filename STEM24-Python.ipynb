{
 "cells": [
  {
   "cell_type": "markdown",
   "id": "6f30654e-db71-49a6-ad1c-112371569106",
   "metadata": {},
   "source": [
    "# STEM SUMMER CAMP\n",
    "## Python Programming - Monday June 24th\n",
    "### Name: Sina Taamoli\n",
    "Let's start coding!"
   ]
  },
  {
   "cell_type": "markdown",
   "id": "85208ab6-85f8-4d1d-9d03-a0dd0446602d",
   "metadata": {},
   "source": [
    "### Part 1: using Python as a calculator"
   ]
  },
  {
   "cell_type": "code",
   "execution_count": 1,
   "id": "61ffc64c-562a-45b6-b8c4-a1d149f87146",
   "metadata": {},
   "outputs": [
    {
     "data": {
      "text/plain": [
       "5"
      ]
     },
     "execution_count": 1,
     "metadata": {},
     "output_type": "execute_result"
    }
   ],
   "source": [
    "3 + 2"
   ]
  },
  {
   "cell_type": "code",
   "execution_count": 4,
   "id": "0e365331-cf01-470a-b4ea-a2c8bd581f23",
   "metadata": {},
   "outputs": [
    {
     "data": {
      "text/plain": [
       "(2, 1.7142857142857142, 24.8, 2, 2, 16)"
      ]
     },
     "execution_count": 4,
     "metadata": {},
     "output_type": "execute_result"
    }
   ],
   "source": [
    "5-3, 6/3.5, 4*6.2, 8//3, 8 % 3, 4 ** 2"
   ]
  },
  {
   "cell_type": "code",
   "execution_count": 69,
   "id": "9d463680-6c02-4724-bfdc-43ff26f22f96",
   "metadata": {},
   "outputs": [],
   "source": [
    "# boolean variables\n",
    "True, False"
   ]
  },
  {
   "cell_type": "code",
   "execution_count": 71,
   "id": "21a1d239-594a-4816-b040-f9e0538c792f",
   "metadata": {},
   "outputs": [
    {
     "data": {
      "text/plain": [
       "True"
      ]
     },
     "execution_count": 71,
     "metadata": {},
     "output_type": "execute_result"
    }
   ],
   "source": [
    "# Comparison operators\n",
    "3 > 2"
   ]
  },
  {
   "cell_type": "code",
   "execution_count": 72,
   "id": "49f8403a-864f-4acc-bed5-9611c4af6899",
   "metadata": {},
   "outputs": [
    {
     "data": {
      "text/plain": [
       "False"
      ]
     },
     "execution_count": 72,
     "metadata": {},
     "output_type": "execute_result"
    }
   ],
   "source": [
    "4 > 7"
   ]
  },
  {
   "cell_type": "code",
   "execution_count": 73,
   "id": "b02f0071-a078-4d9a-a97a-6e5f2fd02849",
   "metadata": {},
   "outputs": [
    {
     "data": {
      "text/plain": [
       "False"
      ]
     },
     "execution_count": 73,
     "metadata": {},
     "output_type": "execute_result"
    }
   ],
   "source": [
    "14 == 16"
   ]
  },
  {
   "cell_type": "code",
   "execution_count": 74,
   "id": "3a241cec-26c5-4326-bc87-f376f77e0ae1",
   "metadata": {},
   "outputs": [
    {
     "data": {
      "text/plain": [
       "False"
      ]
     },
     "execution_count": 74,
     "metadata": {},
     "output_type": "execute_result"
    }
   ],
   "source": [
    "14 != 14"
   ]
  },
  {
   "cell_type": "markdown",
   "id": "de9bd4c3-6b80-41a8-9d49-710babe1eaa6",
   "metadata": {},
   "source": [
    "### Part two: Storing variables"
   ]
  },
  {
   "cell_type": "markdown",
   "id": "c9135e24-716e-4775-8a3b-c991183fd273",
   "metadata": {},
   "source": [
    "### 1- Variables"
   ]
  },
  {
   "cell_type": "markdown",
   "id": "f1417a13-cb8a-465b-882e-bc4c10ba5620",
   "metadata": {},
   "source": [
    "#### storing numerical values in a variable"
   ]
  },
  {
   "cell_type": "code",
   "execution_count": 5,
   "id": "7e6376ca-70bd-42f2-98f8-3ce8d95a3331",
   "metadata": {},
   "outputs": [],
   "source": [
    "# integers\n",
    "x = 3"
   ]
  },
  {
   "cell_type": "code",
   "execution_count": 6,
   "id": "7f1978e3-1fc9-4ad4-9f61-e4683bfe3487",
   "metadata": {},
   "outputs": [
    {
     "data": {
      "text/plain": [
       "3"
      ]
     },
     "execution_count": 6,
     "metadata": {},
     "output_type": "execute_result"
    }
   ],
   "source": [
    "x"
   ]
  },
  {
   "cell_type": "code",
   "execution_count": 7,
   "id": "8433c83e-4610-4d34-b16a-01e3b9d942a6",
   "metadata": {},
   "outputs": [],
   "source": [
    "y = 5"
   ]
  },
  {
   "cell_type": "code",
   "execution_count": 8,
   "id": "ec2099ff-8f8d-4fd3-b93d-3c1862e01a83",
   "metadata": {},
   "outputs": [
    {
     "data": {
      "text/plain": [
       "5"
      ]
     },
     "execution_count": 8,
     "metadata": {},
     "output_type": "execute_result"
    }
   ],
   "source": [
    "y"
   ]
  },
  {
   "cell_type": "code",
   "execution_count": 9,
   "id": "7f63da0a-cb9f-45a1-a8bf-437b47186191",
   "metadata": {},
   "outputs": [
    {
     "data": {
      "text/plain": [
       "8"
      ]
     },
     "execution_count": 9,
     "metadata": {},
     "output_type": "execute_result"
    }
   ],
   "source": [
    "x + y"
   ]
  },
  {
   "cell_type": "code",
   "execution_count": 10,
   "id": "ec794e0d-83e4-45bd-a0bd-a74502592246",
   "metadata": {},
   "outputs": [
    {
     "name": "stdout",
     "output_type": "stream",
     "text": [
      "3\n"
     ]
    }
   ],
   "source": [
    "# This is just a comment\n",
    "# print function\n",
    "print(x)"
   ]
  },
  {
   "cell_type": "code",
   "execution_count": 20,
   "id": "3f78b10e-9a92-475a-a7b5-148e1ece7b18",
   "metadata": {},
   "outputs": [],
   "source": [
    "# float numbers\n",
    "x = 7.2"
   ]
  },
  {
   "cell_type": "code",
   "execution_count": 12,
   "id": "ee5dd7ef-3345-4177-b686-05fc7126ce6d",
   "metadata": {},
   "outputs": [
    {
     "data": {
      "text/plain": [
       "7.2"
      ]
     },
     "execution_count": 12,
     "metadata": {},
     "output_type": "execute_result"
    }
   ],
   "source": [
    "x"
   ]
  },
  {
   "cell_type": "code",
   "execution_count": 14,
   "id": "b9f4684b-25db-4823-bee3-a8e2f087f31d",
   "metadata": {},
   "outputs": [
    {
     "ename": "NameError",
     "evalue": "name 'hello' is not defined",
     "output_type": "error",
     "traceback": [
      "\u001b[1;31m---------------------------------------------------------------------------\u001b[0m",
      "\u001b[1;31mNameError\u001b[0m                                 Traceback (most recent call last)",
      "Cell \u001b[1;32mIn[14], line 3\u001b[0m\n\u001b[0;32m      1\u001b[0m \u001b[38;5;66;03m# string\u001b[39;00m\n\u001b[1;32m----> 3\u001b[0m z \u001b[38;5;241m=\u001b[39m hello\n",
      "\u001b[1;31mNameError\u001b[0m: name 'hello' is not defined"
     ]
    }
   ],
   "source": [
    "# string\n",
    "\n",
    "z = hello"
   ]
  },
  {
   "cell_type": "code",
   "execution_count": 17,
   "id": "b49c2f76-ab64-4f57-8aad-9b9632bf015d",
   "metadata": {},
   "outputs": [],
   "source": [
    "z = 'Hello'"
   ]
  },
  {
   "cell_type": "code",
   "execution_count": 24,
   "id": "366733cc-cc84-4246-be2b-4611acffe21f",
   "metadata": {},
   "outputs": [],
   "source": [
    "string_1 = 'my'\n",
    "string_2 = 'name'\n",
    "string_3 = 'is'\n",
    "string_4 = 'Sina'\n",
    "\n",
    "sentence = string_1 + ' ' + string_2 + ' ' + string_3 + ' ' + string_4"
   ]
  },
  {
   "cell_type": "code",
   "execution_count": 33,
   "id": "45d1b74c-b284-4c9a-a8b3-49212a27feee",
   "metadata": {},
   "outputs": [
    {
     "data": {
      "text/plain": [
       "'ma'"
      ]
     },
     "execution_count": 33,
     "metadata": {},
     "output_type": "execute_result"
    }
   ],
   "source": [
    "string_1[0] + string_2[1]"
   ]
  },
  {
   "cell_type": "code",
   "execution_count": 25,
   "id": "5e623698-394a-4506-9d74-84a216163524",
   "metadata": {},
   "outputs": [
    {
     "data": {
      "text/plain": [
       "'my name is Sina'"
      ]
     },
     "execution_count": 25,
     "metadata": {},
     "output_type": "execute_result"
    }
   ],
   "source": [
    "sentence"
   ]
  },
  {
   "cell_type": "code",
   "execution_count": 18,
   "id": "f1410d59-dfe3-4726-899d-744143985184",
   "metadata": {},
   "outputs": [
    {
     "data": {
      "text/plain": [
       "'Hello'"
      ]
     },
     "execution_count": 18,
     "metadata": {},
     "output_type": "execute_result"
    }
   ],
   "source": [
    "z"
   ]
  },
  {
   "cell_type": "markdown",
   "id": "f4ec3b1b-e01f-4952-a5b7-46f13db05e9c",
   "metadata": {},
   "source": [
    "In interactive mode the last printed expression is assigned to the variable _"
   ]
  },
  {
   "cell_type": "code",
   "execution_count": 21,
   "id": "96bde80f-d673-433f-b3ca-60683be0838e",
   "metadata": {},
   "outputs": [
    {
     "data": {
      "text/plain": [
       "'Hello'"
      ]
     },
     "execution_count": 21,
     "metadata": {},
     "output_type": "execute_result"
    }
   ],
   "source": [
    "_"
   ]
  },
  {
   "cell_type": "code",
   "execution_count": 26,
   "id": "0f7241f9-4106-4423-8807-edcdbd746c9b",
   "metadata": {},
   "outputs": [
    {
     "data": {
      "text/plain": [
       "'Hello'"
      ]
     },
     "execution_count": 26,
     "metadata": {},
     "output_type": "execute_result"
    }
   ],
   "source": [
    "z"
   ]
  },
  {
   "cell_type": "code",
   "execution_count": 32,
   "id": "aa83e979-9d8b-4490-90fd-75db69827e24",
   "metadata": {},
   "outputs": [
    {
     "data": {
      "text/plain": [
       "('H', 'e', 'l', 'o', 'o')"
      ]
     },
     "execution_count": 32,
     "metadata": {},
     "output_type": "execute_result"
    }
   ],
   "source": [
    "z[0], z[1], z[2], z[-1], z[4]"
   ]
  },
  {
   "cell_type": "markdown",
   "id": "fa364c6f-b532-4b17-af1a-6c832ba0961f",
   "metadata": {},
   "source": [
    "### 2- Lists"
   ]
  },
  {
   "cell_type": "code",
   "execution_count": 34,
   "id": "5597cf24-3c2d-463f-b200-f03546d830d0",
   "metadata": {},
   "outputs": [],
   "source": [
    "odds = [1, 3, 5, 7]"
   ]
  },
  {
   "cell_type": "code",
   "execution_count": 35,
   "id": "d208d46f-7fd9-4e50-835f-103648a03bde",
   "metadata": {},
   "outputs": [
    {
     "data": {
      "text/plain": [
       "[1, 3, 5, 7]"
      ]
     },
     "execution_count": 35,
     "metadata": {},
     "output_type": "execute_result"
    }
   ],
   "source": [
    "odds"
   ]
  },
  {
   "cell_type": "code",
   "execution_count": 36,
   "id": "fcc08118-c7fc-4516-af25-b548be6751fb",
   "metadata": {},
   "outputs": [
    {
     "name": "stdout",
     "output_type": "stream",
     "text": [
      "[1, 3, 5, 7]\n"
     ]
    }
   ],
   "source": [
    "print(odds)"
   ]
  },
  {
   "cell_type": "code",
   "execution_count": 37,
   "id": "3971da8b-c90d-4417-86fb-b90905909f1f",
   "metadata": {},
   "outputs": [
    {
     "data": {
      "text/plain": [
       "(1, 3, 7)"
      ]
     },
     "execution_count": 37,
     "metadata": {},
     "output_type": "execute_result"
    }
   ],
   "source": [
    "odds[0], odds[1], odds[-1]"
   ]
  },
  {
   "cell_type": "code",
   "execution_count": 38,
   "id": "a58fad22-5c77-479c-8f8d-1c44149c2ba9",
   "metadata": {},
   "outputs": [
    {
     "data": {
      "text/plain": [
       "6"
      ]
     },
     "execution_count": 38,
     "metadata": {},
     "output_type": "execute_result"
    }
   ],
   "source": [
    "odds[0] + odds[2]"
   ]
  },
  {
   "cell_type": "code",
   "execution_count": 40,
   "id": "8c8664ce-590a-4b31-a77f-f2c55cd9b8c1",
   "metadata": {},
   "outputs": [
    {
     "data": {
      "text/plain": [
       "[1, 3, 5, 7, 1, 3, 5, 7, 1, 3, 5, 7]"
      ]
     },
     "execution_count": 40,
     "metadata": {},
     "output_type": "execute_result"
    }
   ],
   "source": [
    "3 * odds"
   ]
  },
  {
   "cell_type": "code",
   "execution_count": 43,
   "id": "ed039ee5-68cd-4212-b210-0de90b1cb1ae",
   "metadata": {},
   "outputs": [
    {
     "data": {
      "text/plain": [
       "[1]"
      ]
     },
     "execution_count": 43,
     "metadata": {},
     "output_type": "execute_result"
    }
   ],
   "source": [
    "list_1 = []\n",
    "list_1.append(1)\n",
    "list_1"
   ]
  },
  {
   "cell_type": "code",
   "execution_count": 44,
   "id": "f39e062f-5c75-4ee7-8231-2d6822ab0b1f",
   "metadata": {},
   "outputs": [],
   "source": [
    "list_1.append(3.2)"
   ]
  },
  {
   "cell_type": "code",
   "execution_count": 45,
   "id": "f75bf47f-8fd2-49a2-88f2-ee461fc7b572",
   "metadata": {},
   "outputs": [
    {
     "data": {
      "text/plain": [
       "[1, 3.2]"
      ]
     },
     "execution_count": 45,
     "metadata": {},
     "output_type": "execute_result"
    }
   ],
   "source": [
    "list_1"
   ]
  },
  {
   "cell_type": "code",
   "execution_count": 50,
   "id": "231c0751-6656-481e-9f96-5a0c6f19c4aa",
   "metadata": {},
   "outputs": [],
   "source": [
    "list_1.insert(2, 'hello')"
   ]
  },
  {
   "cell_type": "code",
   "execution_count": 51,
   "id": "b5ce97dc-8527-4435-b17d-fbc380619596",
   "metadata": {},
   "outputs": [
    {
     "data": {
      "text/plain": [
       "[1, 3.2, 'hello']"
      ]
     },
     "execution_count": 51,
     "metadata": {},
     "output_type": "execute_result"
    }
   ],
   "source": [
    "list_1"
   ]
  },
  {
   "cell_type": "code",
   "execution_count": 52,
   "id": "d0f2c52c-3378-4dc6-b59c-7a4370601484",
   "metadata": {},
   "outputs": [],
   "source": [
    "list_1.append([1, 2])"
   ]
  },
  {
   "cell_type": "markdown",
   "id": "1ac0b149-f523-46c5-8d18-f3ae093b42c8",
   "metadata": {},
   "source": [
    "#### Nested Lists"
   ]
  },
  {
   "cell_type": "code",
   "execution_count": 53,
   "id": "0b5cbe30-4115-481e-9b0d-cd0b51ea4a65",
   "metadata": {},
   "outputs": [
    {
     "data": {
      "text/plain": [
       "[1, 3.2, 'hello', [1, 2]]"
      ]
     },
     "execution_count": 53,
     "metadata": {},
     "output_type": "execute_result"
    }
   ],
   "source": [
    "list_1"
   ]
  },
  {
   "cell_type": "code",
   "execution_count": 54,
   "id": "d8e2b5b4-90ff-4543-be4a-d29ee511367f",
   "metadata": {},
   "outputs": [],
   "source": [
    "list_1.remove(1)"
   ]
  },
  {
   "cell_type": "code",
   "execution_count": 55,
   "id": "edf1ace1-829f-48fa-8955-cd289cfc10fd",
   "metadata": {},
   "outputs": [
    {
     "data": {
      "text/plain": [
       "[3.2, 'hello', [1, 2]]"
      ]
     },
     "execution_count": 55,
     "metadata": {},
     "output_type": "execute_result"
    }
   ],
   "source": [
    "list_1"
   ]
  },
  {
   "cell_type": "code",
   "execution_count": 56,
   "id": "ae8ae237-846e-455c-a6ad-6b8f6489bdb9",
   "metadata": {},
   "outputs": [],
   "source": [
    "list_1.remove('hello')"
   ]
  },
  {
   "cell_type": "code",
   "execution_count": 57,
   "id": "dcced8fe-c2f2-4300-8753-d8c0188e1c3a",
   "metadata": {},
   "outputs": [
    {
     "data": {
      "text/plain": [
       "[3.2, [1, 2]]"
      ]
     },
     "execution_count": 57,
     "metadata": {},
     "output_type": "execute_result"
    }
   ],
   "source": [
    "list_1"
   ]
  },
  {
   "cell_type": "code",
   "execution_count": 58,
   "id": "3bbdb6e2-5e12-4752-854e-b8f36d88adfa",
   "metadata": {},
   "outputs": [],
   "source": [
    "list_1.append(4)"
   ]
  },
  {
   "cell_type": "code",
   "execution_count": 59,
   "id": "b4343a9e-a2ef-4640-8f46-d5668dc5f76b",
   "metadata": {},
   "outputs": [
    {
     "data": {
      "text/plain": [
       "[3.2, [1, 2], 4]"
      ]
     },
     "execution_count": 59,
     "metadata": {},
     "output_type": "execute_result"
    }
   ],
   "source": [
    "list_1"
   ]
  },
  {
   "cell_type": "code",
   "execution_count": 60,
   "id": "a35cef17-7042-48bc-a85b-144ef476b566",
   "metadata": {},
   "outputs": [],
   "source": [
    "del list_1[1]"
   ]
  },
  {
   "cell_type": "code",
   "execution_count": 61,
   "id": "67ac08b2-ddc1-4b3f-ba85-520a25cf7a46",
   "metadata": {},
   "outputs": [
    {
     "data": {
      "text/plain": [
       "[3.2, 4]"
      ]
     },
     "execution_count": 61,
     "metadata": {},
     "output_type": "execute_result"
    }
   ],
   "source": [
    "list_1"
   ]
  },
  {
   "cell_type": "markdown",
   "id": "56a920ed-88a0-47c5-83c4-e17662147920",
   "metadata": {},
   "source": [
    "#### Another built-in function: len()"
   ]
  },
  {
   "cell_type": "code",
   "execution_count": 62,
   "id": "29c3ee37-6ac7-4daa-b34a-a4522558673e",
   "metadata": {},
   "outputs": [
    {
     "data": {
      "text/plain": [
       "[3.2, 4]"
      ]
     },
     "execution_count": 62,
     "metadata": {},
     "output_type": "execute_result"
    }
   ],
   "source": [
    "list_1"
   ]
  },
  {
   "cell_type": "code",
   "execution_count": 63,
   "id": "f67514d1-90d0-4a70-8f1a-3829d8bb99de",
   "metadata": {},
   "outputs": [
    {
     "data": {
      "text/plain": [
       "2"
      ]
     },
     "execution_count": 63,
     "metadata": {},
     "output_type": "execute_result"
    }
   ],
   "source": [
    "len(list_1)"
   ]
  },
  {
   "cell_type": "code",
   "execution_count": 65,
   "id": "7b54f97e-1a80-4060-9e26-fcf7bd724afa",
   "metadata": {},
   "outputs": [],
   "source": [
    "list_1.append([1, 3, 4])"
   ]
  },
  {
   "cell_type": "code",
   "execution_count": 66,
   "id": "a0cb65f9-313b-4dd8-bf3a-af07004c3c9b",
   "metadata": {},
   "outputs": [
    {
     "data": {
      "text/plain": [
       "[3.2, 4, [1, 3, 4]]"
      ]
     },
     "execution_count": 66,
     "metadata": {},
     "output_type": "execute_result"
    }
   ],
   "source": [
    "list_1"
   ]
  },
  {
   "cell_type": "code",
   "execution_count": 67,
   "id": "08bb070b-45b3-459e-af93-202445167adc",
   "metadata": {},
   "outputs": [
    {
     "data": {
      "text/plain": [
       "3"
      ]
     },
     "execution_count": 67,
     "metadata": {},
     "output_type": "execute_result"
    }
   ],
   "source": [
    "len(list_1)"
   ]
  },
  {
   "cell_type": "markdown",
   "id": "c6d271ee-4801-4e5b-a523-2804ba8bcc67",
   "metadata": {},
   "source": [
    "#### abs(): returns absolute value of a number"
   ]
  },
  {
   "cell_type": "code",
   "execution_count": 68,
   "id": "036c119f-1282-49fe-a63f-0cb5743f0953",
   "metadata": {},
   "outputs": [
    {
     "data": {
      "text/plain": [
       "4"
      ]
     },
     "execution_count": 68,
     "metadata": {},
     "output_type": "execute_result"
    }
   ],
   "source": [
    "abs(-4)"
   ]
  },
  {
   "cell_type": "markdown",
   "id": "ddb00cd4-7c8f-47c9-964a-d190d570fdca",
   "metadata": {},
   "source": [
    "### Control Flow Tools (if, while, for)"
   ]
  },
  {
   "cell_type": "markdown",
   "id": "3e935f3f-177b-4b2a-ba7a-88a8d0d3424c",
   "metadata": {},
   "source": [
    "#### 1. while statement"
   ]
  },
  {
   "cell_type": "code",
   "execution_count": 79,
   "id": "2c3f54ee-3429-43ec-9d38-5ffb1daf08e7",
   "metadata": {},
   "outputs": [
    {
     "name": "stdout",
     "output_type": "stream",
     "text": [
      "5\n",
      "6\n",
      "7\n",
      "8\n",
      "9\n"
     ]
    }
   ],
   "source": [
    "i = 5\n",
    "\n",
    "while (i < 10):\n",
    "    print(i)\n",
    "    i = i + 1"
   ]
  },
  {
   "cell_type": "markdown",
   "id": "cf35bb78-7206-43d1-819f-870f381dc540",
   "metadata": {},
   "source": [
    "#### 2. if statement"
   ]
  },
  {
   "cell_type": "code",
   "execution_count": 83,
   "id": "81dc0c91-479f-4163-97d7-1112e2d3a9e7",
   "metadata": {},
   "outputs": [
    {
     "name": "stdout",
     "output_type": "stream",
     "text": [
      "9\n"
     ]
    }
   ],
   "source": [
    "# single \"if\"\n",
    "i = 9\n",
    "\n",
    "if (i < 20):\n",
    "    print(i)"
   ]
  },
  {
   "cell_type": "code",
   "execution_count": 85,
   "id": "66fc9665-9b33-4518-aed2-1d78ba84fd00",
   "metadata": {},
   "outputs": [
    {
     "name": "stdout",
     "output_type": "stream",
     "text": [
      "i is greater than 20\n"
     ]
    }
   ],
   "source": [
    "# combination of \"if\" + \"else\"\n",
    "\n",
    "i = 30\n",
    "\n",
    "if (i < 20):\n",
    "    print(i)\n",
    "else:\n",
    "    print('i is greater than 20')"
   ]
  },
  {
   "cell_type": "code",
   "execution_count": 88,
   "id": "c6fc8f9a-0fed-485c-9390-cc43327e8593",
   "metadata": {},
   "outputs": [
    {
     "name": "stdout",
     "output_type": "stream",
     "text": [
      "i is greater than 30\n"
     ]
    }
   ],
   "source": [
    "# combination of if, elif, else\n",
    "\n",
    "i = 43\n",
    "\n",
    "if (i < 20):\n",
    "    print(i)\n",
    "elif(i < 30):\n",
    "    print('i is greater than 20, but still less than 30')\n",
    "else:\n",
    "    print('i is greater than 30')"
   ]
  },
  {
   "cell_type": "markdown",
   "id": "3835b6b8-4741-4d0f-8aed-1669e675e980",
   "metadata": {},
   "source": [
    "#### 3. for loop"
   ]
  },
  {
   "cell_type": "code",
   "execution_count": 89,
   "id": "4c43eea7-1a0d-48d1-b13b-c8a44c77d333",
   "metadata": {},
   "outputs": [
    {
     "name": "stdout",
     "output_type": "stream",
     "text": [
      "1\n",
      "2\n",
      "3\n",
      "4\n",
      "5\n",
      "6\n",
      "7\n"
     ]
    }
   ],
   "source": [
    "list = [1, 2, 3, 4, 5, 6, 7]\n",
    "\n",
    "for i in list:\n",
    "    print(i)"
   ]
  },
  {
   "cell_type": "markdown",
   "id": "388d9d63-4c22-403d-91df-3ae29306a0bf",
   "metadata": {},
   "source": [
    "#### Control flow tools- example 1"
   ]
  },
  {
   "cell_type": "code",
   "execution_count": 99,
   "id": "c2459889-4049-41f0-9361-470c25f6ea6b",
   "metadata": {},
   "outputs": [],
   "source": [
    "list = [10, 3, 4, 8, 27, 78, 12]"
   ]
  },
  {
   "cell_type": "markdown",
   "id": "aeb291e3-ae87-4c97-973f-6635f74e80b8",
   "metadata": {},
   "source": [
    "design an algorithm which takes every single element of 'list', and if that element is less than 30, multiply it by 2, replace the old number with the new one."
   ]
  },
  {
   "cell_type": "markdown",
   "id": "d341140c-311b-4276-a47a-bdeb2bc81475",
   "metadata": {},
   "source": [
    "list = [20, 6, 8, 16, 54, 156, 12]"
   ]
  },
  {
   "cell_type": "code",
   "execution_count": 100,
   "id": "e55594f5-174e-4924-8e4d-23be0d2a2492",
   "metadata": {},
   "outputs": [],
   "source": [
    "answer = []\n",
    "for i in list:\n",
    "    if (i > 30):\n",
    "        j = i * 2\n",
    "        answer.append(j)\n",
    "    else: \n",
    "        answer.append(i)"
   ]
  },
  {
   "cell_type": "code",
   "execution_count": 101,
   "id": "af93bc02-f126-4ad7-a26d-1ad6880ff464",
   "metadata": {},
   "outputs": [
    {
     "data": {
      "text/plain": [
       "[10, 3, 4, 8, 27, 156, 12]"
      ]
     },
     "execution_count": 101,
     "metadata": {},
     "output_type": "execute_result"
    }
   ],
   "source": [
    "answer"
   ]
  },
  {
   "cell_type": "code",
   "execution_count": null,
   "id": "88f4e5cd-4af3-47d0-8c79-2895c9753ef1",
   "metadata": {},
   "outputs": [],
   "source": []
  }
 ],
 "metadata": {
  "kernelspec": {
   "display_name": "Python 3 (ipykernel)",
   "language": "python",
   "name": "python3"
  },
  "language_info": {
   "codemirror_mode": {
    "name": "ipython",
    "version": 3
   },
   "file_extension": ".py",
   "mimetype": "text/x-python",
   "name": "python",
   "nbconvert_exporter": "python",
   "pygments_lexer": "ipython3",
   "version": "3.11.7"
  }
 },
 "nbformat": 4,
 "nbformat_minor": 5
}
