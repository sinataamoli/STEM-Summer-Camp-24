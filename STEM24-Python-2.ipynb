{
 "cells": [
  {
   "cell_type": "markdown",
   "id": "8f603272-10d9-4a4e-9a0c-3fd7e4233387",
   "metadata": {},
   "source": [
    "# STEM SUMMER CAMP\n",
    "\n",
    "## Python Programming - Session 2"
   ]
  },
  {
   "cell_type": "markdown",
   "id": "0ae64c5b-2f3a-4185-b27a-f9c68008d488",
   "metadata": {},
   "source": [
    "### Review: for loops"
   ]
  },
  {
   "cell_type": "code",
   "execution_count": 2,
   "id": "5390e40f-96f8-4563-9a4a-a4ccb1790a25",
   "metadata": {},
   "outputs": [
    {
     "name": "stdout",
     "output_type": "stream",
     "text": [
      "o\n",
      "x\n",
      "y\n",
      "g\n",
      "e\n",
      "n\n"
     ]
    }
   ],
   "source": [
    "word = 'oxygen'\n",
    "for letter in word:\n",
    "    print(letter)"
   ]
  },
  {
   "cell_type": "markdown",
   "id": "d0c102db-1204-4982-9d46-349b2b528455",
   "metadata": {},
   "source": [
    "#### Example 1:"
   ]
  },
  {
   "cell_type": "code",
   "execution_count": 3,
   "id": "38f751da-6a28-49cd-bf54-c9d73febedca",
   "metadata": {},
   "outputs": [],
   "source": [
    "names_list = ['John', 'Robert', 'James', 'Isabella']"
   ]
  },
  {
   "cell_type": "code",
   "execution_count": 4,
   "id": "38a5d78b-4fb9-48e5-b99d-ba25de46bb9b",
   "metadata": {},
   "outputs": [
    {
     "data": {
      "text/plain": [
       "'John'"
      ]
     },
     "execution_count": 4,
     "metadata": {},
     "output_type": "execute_result"
    }
   ],
   "source": [
    "names_list[0]"
   ]
  },
  {
   "cell_type": "markdown",
   "id": "2bade2ec-1385-4a88-875d-28293ef5c009",
   "metadata": {},
   "source": [
    "Design a for loop which adds any word inside 'names_list' that is longer than 5 letters to a new list, 'long_names', and if the name is shorter than 5 letters prints: 'The name is shorter than 5 letters'"
   ]
  },
  {
   "cell_type": "code",
   "execution_count": 8,
   "id": "8958a659-b1de-4759-805d-b7fd14ef8f5e",
   "metadata": {},
   "outputs": [
    {
     "name": "stdout",
     "output_type": "stream",
     "text": [
      "this name is longer than 5 letters: Robert\n",
      "this name is longer than 5 letters: James\n",
      "this name is longer than 5 letters: Isabella\n"
     ]
    }
   ],
   "source": [
    "answer = []\n",
    "for name in names_list:\n",
    "    length = len(name)\n",
    "    if (length < 5):\n",
    "        answer.append(name)\n",
    "    else:\n",
    "        print('this name is longer than 5 letters:', name)"
   ]
  },
  {
   "cell_type": "markdown",
   "id": "968a11db-5e69-4059-88ca-0df2cf4bf8d3",
   "metadata": {},
   "source": [
    "## Part 3: Python Functions"
   ]
  },
  {
   "cell_type": "code",
   "execution_count": 10,
   "id": "0c252503-5c6d-4df5-aacc-91120203d854",
   "metadata": {},
   "outputs": [],
   "source": [
    "def printer_function(argument1, argument2):\n",
    "    print(argument1)\n",
    "    print(argument2)"
   ]
  },
  {
   "cell_type": "code",
   "execution_count": 11,
   "id": "13d1a0fe-9308-4a56-afa8-7c4317d1ebe9",
   "metadata": {},
   "outputs": [
    {
     "name": "stdout",
     "output_type": "stream",
     "text": [
      "2.3\n",
      "7\n"
     ]
    }
   ],
   "source": [
    "printer_function(2.3, 7)"
   ]
  },
  {
   "cell_type": "code",
   "execution_count": 12,
   "id": "3a42a202-fb67-469e-93b0-9695b786d78c",
   "metadata": {},
   "outputs": [
    {
     "name": "stdout",
     "output_type": "stream",
     "text": [
      "STEM\n",
      "CAMP\n"
     ]
    }
   ],
   "source": [
    "printer_function('STEM', 'CAMP')"
   ]
  },
  {
   "cell_type": "code",
   "execution_count": 13,
   "id": "7846bf43-7cef-4831-9937-3eec823c5991",
   "metadata": {},
   "outputs": [
    {
     "ename": "TypeError",
     "evalue": "printer_function() missing 1 required positional argument: 'argument2'",
     "output_type": "error",
     "traceback": [
      "\u001b[1;31m---------------------------------------------------------------------------\u001b[0m",
      "\u001b[1;31mTypeError\u001b[0m                                 Traceback (most recent call last)",
      "Cell \u001b[1;32mIn[13], line 1\u001b[0m\n\u001b[1;32m----> 1\u001b[0m printer_function(\u001b[38;5;241m2\u001b[39m)\n",
      "\u001b[1;31mTypeError\u001b[0m: printer_function() missing 1 required positional argument: 'argument2'"
     ]
    }
   ],
   "source": [
    "printer_function(2)"
   ]
  },
  {
   "cell_type": "markdown",
   "id": "cef8c301-b240-4107-9533-e8d76715c3bd",
   "metadata": {},
   "source": [
    "#### Example 2:"
   ]
  },
  {
   "cell_type": "markdown",
   "id": "966cb0d2-a246-4a13-9f53-96a00f05c292",
   "metadata": {},
   "source": [
    "design a function which takes two numbers and checks whether their summation is greater than 10 and prints 'the summation is greater than 10', otherwise prints the summation"
   ]
  },
  {
   "cell_type": "code",
   "execution_count": 14,
   "id": "23a07c69-e9f9-4b70-893f-28ab5567861a",
   "metadata": {},
   "outputs": [],
   "source": [
    "def checker_function(arg1, arg2):\n",
    "    summation = arg1 + arg2\n",
    "    if (summation > 10):\n",
    "        print('Summation is greater than 10')\n",
    "    else:\n",
    "        print(summation)"
   ]
  },
  {
   "cell_type": "code",
   "execution_count": 15,
   "id": "26c44aeb-659a-4687-bdc2-08fbb6386c62",
   "metadata": {},
   "outputs": [
    {
     "name": "stdout",
     "output_type": "stream",
     "text": [
      "7\n"
     ]
    }
   ],
   "source": [
    "checker_function(3, 4)"
   ]
  },
  {
   "cell_type": "code",
   "execution_count": 16,
   "id": "65b0cb49-a451-4aed-8760-1de9f09534bd",
   "metadata": {},
   "outputs": [
    {
     "name": "stdout",
     "output_type": "stream",
     "text": [
      "Summation is greater than 10\n"
     ]
    }
   ],
   "source": [
    "checker_function(6, 8)"
   ]
  },
  {
   "cell_type": "code",
   "execution_count": 17,
   "id": "076e626e-6277-4377-974d-319762a0be79",
   "metadata": {},
   "outputs": [
    {
     "ename": "NameError",
     "evalue": "name 'summation' is not defined",
     "output_type": "error",
     "traceback": [
      "\u001b[1;31m---------------------------------------------------------------------------\u001b[0m",
      "\u001b[1;31mNameError\u001b[0m                                 Traceback (most recent call last)",
      "Cell \u001b[1;32mIn[17], line 1\u001b[0m\n\u001b[1;32m----> 1\u001b[0m summation\n",
      "\u001b[1;31mNameError\u001b[0m: name 'summation' is not defined"
     ]
    }
   ],
   "source": [
    "summation"
   ]
  },
  {
   "cell_type": "code",
   "execution_count": 19,
   "id": "a8a9909a-ef17-4e3b-91bd-44a05f1a5797",
   "metadata": {},
   "outputs": [],
   "source": [
    "def function2(x, y):\n",
    "    result = 2 * x + y\n",
    "    return result"
   ]
  },
  {
   "cell_type": "code",
   "execution_count": 20,
   "id": "8605fcd4-07e5-42e4-a4a4-3638da6cffe3",
   "metadata": {},
   "outputs": [
    {
     "data": {
      "text/plain": [
       "11"
      ]
     },
     "execution_count": 20,
     "metadata": {},
     "output_type": "execute_result"
    }
   ],
   "source": [
    "function2(3, 5)"
   ]
  },
  {
   "cell_type": "code",
   "execution_count": 23,
   "id": "6e38e0cf-c9b2-4895-aa2a-ede56472ad4e",
   "metadata": {},
   "outputs": [],
   "source": [
    "saved_result = function2(2, 4)"
   ]
  },
  {
   "cell_type": "code",
   "execution_count": 24,
   "id": "ec6838eb-714d-4ef7-b3fa-1592d31c3863",
   "metadata": {},
   "outputs": [
    {
     "data": {
      "text/plain": [
       "8"
      ]
     },
     "execution_count": 24,
     "metadata": {},
     "output_type": "execute_result"
    }
   ],
   "source": [
    "saved_result"
   ]
  },
  {
   "cell_type": "code",
   "execution_count": 25,
   "id": "f0381001-e387-4a2b-a4ac-2336725a9aa1",
   "metadata": {},
   "outputs": [],
   "source": [
    "def function3(x, y, z):\n",
    "    result1 = 3 * x + 2 * y\n",
    "    result2 = z - y\n",
    "    print('the first argument is:', x)\n",
    "    return result1, result2"
   ]
  },
  {
   "cell_type": "code",
   "execution_count": 27,
   "id": "0db2b7af-7fe3-4b73-a3cf-ba6e503b0dec",
   "metadata": {},
   "outputs": [
    {
     "name": "stdout",
     "output_type": "stream",
     "text": [
      "the first argument is: 7\n"
     ]
    }
   ],
   "source": [
    "saved_result1, saved_result2 = function3(7, 2, 9)"
   ]
  },
  {
   "cell_type": "code",
   "execution_count": 28,
   "id": "31b2ad40-6f4b-4fcf-b5a7-85f892da1fc5",
   "metadata": {},
   "outputs": [
    {
     "data": {
      "text/plain": [
       "25"
      ]
     },
     "execution_count": 28,
     "metadata": {},
     "output_type": "execute_result"
    }
   ],
   "source": [
    "saved_result1"
   ]
  },
  {
   "cell_type": "code",
   "execution_count": 29,
   "id": "9620e91e-b3df-4d51-bb34-2d9d4469f7ea",
   "metadata": {},
   "outputs": [
    {
     "data": {
      "text/plain": [
       "7"
      ]
     },
     "execution_count": 29,
     "metadata": {},
     "output_type": "execute_result"
    }
   ],
   "source": [
    "saved_result2"
   ]
  },
  {
   "cell_type": "code",
   "execution_count": 32,
   "id": "7ea20f54-28d5-4c8c-b71c-1348e59514c1",
   "metadata": {},
   "outputs": [],
   "source": [
    "def dumb_function():\n",
    "    print('Hello')"
   ]
  },
  {
   "cell_type": "code",
   "execution_count": 34,
   "id": "a2ddf79b-426c-4f73-85c7-42e426dce43c",
   "metadata": {},
   "outputs": [
    {
     "name": "stdout",
     "output_type": "stream",
     "text": [
      "Hello\n"
     ]
    }
   ],
   "source": [
    "dumb_function()"
   ]
  },
  {
   "cell_type": "markdown",
   "id": "d23e5ae1-0d10-4f7e-b5d6-7b2b550ca42c",
   "metadata": {},
   "source": [
    "#### Error logs in Python "
   ]
  },
  {
   "cell_type": "code",
   "execution_count": 35,
   "id": "615315c3-d815-4e35-abd6-ae6e15afba4b",
   "metadata": {},
   "outputs": [],
   "source": [
    "# This code has an intentional error:\n",
    "def favorite_ice_cream():\n",
    "    ice_creams = [\n",
    "        'chocolate',\n",
    "        'vanilla', \n",
    "        'strawberry'\n",
    "    ]\n",
    "    print(ice_creams[3])"
   ]
  },
  {
   "cell_type": "code",
   "execution_count": 37,
   "id": "81fe8990-4268-4493-a7fe-4ba5b6d1c9b2",
   "metadata": {},
   "outputs": [
    {
     "ename": "IndexError",
     "evalue": "list index out of range",
     "output_type": "error",
     "traceback": [
      "\u001b[1;31m---------------------------------------------------------------------------\u001b[0m",
      "\u001b[1;31mIndexError\u001b[0m                                Traceback (most recent call last)",
      "Cell \u001b[1;32mIn[37], line 1\u001b[0m\n\u001b[1;32m----> 1\u001b[0m favorite_ice_cream()\n",
      "Cell \u001b[1;32mIn[35], line 8\u001b[0m, in \u001b[0;36mfavorite_ice_cream\u001b[1;34m()\u001b[0m\n\u001b[0;32m      2\u001b[0m \u001b[38;5;28;01mdef\u001b[39;00m \u001b[38;5;21mfavorite_ice_cream\u001b[39m():\n\u001b[0;32m      3\u001b[0m     ice_creams \u001b[38;5;241m=\u001b[39m [\n\u001b[0;32m      4\u001b[0m         \u001b[38;5;124m'\u001b[39m\u001b[38;5;124mchocolate\u001b[39m\u001b[38;5;124m'\u001b[39m,\n\u001b[0;32m      5\u001b[0m         \u001b[38;5;124m'\u001b[39m\u001b[38;5;124mvanilla\u001b[39m\u001b[38;5;124m'\u001b[39m, \n\u001b[0;32m      6\u001b[0m         \u001b[38;5;124m'\u001b[39m\u001b[38;5;124mstrawberry\u001b[39m\u001b[38;5;124m'\u001b[39m\n\u001b[0;32m      7\u001b[0m     ]\n\u001b[1;32m----> 8\u001b[0m     \u001b[38;5;28mprint\u001b[39m(ice_creams[\u001b[38;5;241m3\u001b[39m])\n",
      "\u001b[1;31mIndexError\u001b[0m: list index out of range"
     ]
    }
   ],
   "source": [
    "favorite_ice_cream()"
   ]
  },
  {
   "cell_type": "markdown",
   "id": "048368c1-d940-4a29-850e-0223474ec71d",
   "metadata": {},
   "source": [
    "## Importing Python Packages"
   ]
  },
  {
   "cell_type": "code",
   "execution_count": 39,
   "id": "6ac93f1a-033a-41b3-b6b7-5701db4cb7e7",
   "metadata": {},
   "outputs": [],
   "source": [
    "import numpy"
   ]
  },
  {
   "cell_type": "code",
   "execution_count": 64,
   "id": "8ea260f0-006b-4adb-ab10-87b3166e444c",
   "metadata": {},
   "outputs": [],
   "source": [
    "inflammation_data = numpy.loadtxt(fname = 'inflammation-01.csv', delimiter = ',')"
   ]
  },
  {
   "cell_type": "code",
   "execution_count": 68,
   "id": "456387b6-b1d1-44f9-a926-b507664d2404",
   "metadata": {},
   "outputs": [
    {
     "data": {
      "text/plain": [
       "array([[0., 0., 1., 3., 1., 2., 4., 7., 8., 3.],\n",
       "       [0., 1., 2., 1., 2., 1., 3., 2., 2., 6.],\n",
       "       [0., 1., 1., 3., 3., 2., 6., 2., 5., 9.],\n",
       "       [0., 0., 2., 0., 4., 2., 2., 1., 6., 7.],\n",
       "       [0., 1., 1., 3., 3., 1., 3., 5., 2., 4.],\n",
       "       [0., 0., 1., 2., 2., 4., 2., 1., 6., 4.],\n",
       "       [0., 0., 2., 2., 4., 2., 2., 5., 5., 8.],\n",
       "       [0., 0., 1., 2., 3., 1., 2., 3., 5., 3.],\n",
       "       [0., 0., 0., 3., 1., 5., 6., 5., 5., 8.],\n",
       "       [0., 1., 1., 2., 1., 3., 5., 3., 5., 8.]])"
      ]
     },
     "execution_count": 68,
     "metadata": {},
     "output_type": "execute_result"
    }
   ],
   "source": [
    "inflammation_data[0:10, 0:10]"
   ]
  },
  {
   "cell_type": "code",
   "execution_count": 67,
   "id": "f14508d6-2bab-45c2-be57-eb8c50043191",
   "metadata": {},
   "outputs": [
    {
     "data": {
      "text/plain": [
       "(60, 40)"
      ]
     },
     "execution_count": 67,
     "metadata": {},
     "output_type": "execute_result"
    }
   ],
   "source": [
    "inflammation_data.shape"
   ]
  },
  {
   "cell_type": "code",
   "execution_count": 44,
   "id": "ea5f1ec4-84ec-4b30-9a59-797967f7b070",
   "metadata": {},
   "outputs": [
    {
     "data": {
      "text/plain": [
       "2.0"
      ]
     },
     "execution_count": 44,
     "metadata": {},
     "output_type": "execute_result"
    }
   ],
   "source": [
    "inflammation_data[1, 2]"
   ]
  },
  {
   "cell_type": "code",
   "execution_count": 47,
   "id": "c6fcf23d-32c1-4435-bd27-3a381fe79156",
   "metadata": {},
   "outputs": [
    {
     "data": {
      "text/plain": [
       "array([[0., 1.],\n",
       "       [1., 2.],\n",
       "       [1., 1.]])"
      ]
     },
     "execution_count": 47,
     "metadata": {},
     "output_type": "execute_result"
    }
   ],
   "source": [
    "inflammation_data[0:3 , 1:3]"
   ]
  },
  {
   "cell_type": "code",
   "execution_count": 48,
   "id": "93c96d0b-0820-4ffc-b403-85763453bd46",
   "metadata": {},
   "outputs": [
    {
     "data": {
      "text/plain": [
       "6.14875"
      ]
     },
     "execution_count": 48,
     "metadata": {},
     "output_type": "execute_result"
    }
   ],
   "source": [
    "numpy.mean(inflammation_data)"
   ]
  },
  {
   "cell_type": "code",
   "execution_count": 49,
   "id": "32a59e9c-fe14-4e23-8e76-260acc3719c8",
   "metadata": {},
   "outputs": [
    {
     "data": {
      "text/plain": [
       "20.0"
      ]
     },
     "execution_count": 49,
     "metadata": {},
     "output_type": "execute_result"
    }
   ],
   "source": [
    "numpy.max(inflammation_data)"
   ]
  },
  {
   "cell_type": "code",
   "execution_count": 50,
   "id": "616e6deb-a77f-4f7f-92b8-6a3ff7fedb31",
   "metadata": {},
   "outputs": [
    {
     "data": {
      "text/plain": [
       "0.0"
      ]
     },
     "execution_count": 50,
     "metadata": {},
     "output_type": "execute_result"
    }
   ],
   "source": [
    "numpy.min(inflammation_data)"
   ]
  },
  {
   "cell_type": "code",
   "execution_count": 51,
   "id": "7a87cddd-c062-4f7c-ad77-037403d0b683",
   "metadata": {},
   "outputs": [
    {
     "data": {
      "text/plain": [
       "array([[1, 2, 3],\n",
       "       [4, 5, 6],\n",
       "       [7, 8, 9]])"
      ]
     },
     "execution_count": 51,
     "metadata": {},
     "output_type": "execute_result"
    }
   ],
   "source": [
    "A = numpy.array([[1, 2, 3], [4, 5, 6], [7, 8, 9]])\n",
    "A"
   ]
  },
  {
   "cell_type": "code",
   "execution_count": 54,
   "id": "8e9bf72e-aa60-449c-8663-2b1644db68be",
   "metadata": {},
   "outputs": [
    {
     "data": {
      "text/plain": [
       "array([[3, 7, 2],\n",
       "       [7, 2, 6],\n",
       "       [7, 4, 6]])"
      ]
     },
     "execution_count": 54,
     "metadata": {},
     "output_type": "execute_result"
    }
   ],
   "source": [
    "D = numpy.array([[3, 7, 2], [7, 2, 6], [7, 4, 6]])\n",
    "D"
   ]
  },
  {
   "cell_type": "code",
   "execution_count": 55,
   "id": "d6668c62-49ef-4d2a-b44c-6b19c4054ebc",
   "metadata": {},
   "outputs": [
    {
     "data": {
      "text/plain": [
       "array([[1, 2, 3, 3, 7, 2],\n",
       "       [4, 5, 6, 7, 2, 6],\n",
       "       [7, 8, 9, 7, 4, 6]])"
      ]
     },
     "execution_count": 55,
     "metadata": {},
     "output_type": "execute_result"
    }
   ],
   "source": [
    "B = numpy.hstack([A, D])\n",
    "B"
   ]
  },
  {
   "cell_type": "code",
   "execution_count": 53,
   "id": "b005743c-a644-4fb1-9820-713f33a29142",
   "metadata": {},
   "outputs": [
    {
     "data": {
      "text/plain": [
       "array([[1, 2, 3],\n",
       "       [4, 5, 6],\n",
       "       [7, 8, 9],\n",
       "       [1, 2, 3],\n",
       "       [4, 5, 6],\n",
       "       [7, 8, 9]])"
      ]
     },
     "execution_count": 53,
     "metadata": {},
     "output_type": "execute_result"
    }
   ],
   "source": [
    "C = numpy.vstack([A, A])\n",
    "C"
   ]
  },
  {
   "cell_type": "code",
   "execution_count": 57,
   "id": "04842ac4-f6b8-4a29-a5aa-bed937fa5b98",
   "metadata": {},
   "outputs": [
    {
     "data": {
      "text/plain": [
       "array([[1., 1., 1., 1., 1., 1., 1., 1., 1., 1.],\n",
       "       [1., 1., 1., 1., 1., 1., 1., 1., 1., 1.],\n",
       "       [1., 1., 1., 1., 1., 1., 1., 1., 1., 1.],\n",
       "       [1., 1., 1., 1., 1., 1., 1., 1., 1., 1.],\n",
       "       [1., 1., 1., 1., 1., 1., 1., 1., 1., 1.],\n",
       "       [1., 1., 1., 1., 1., 1., 1., 1., 1., 1.],\n",
       "       [1., 1., 1., 1., 1., 1., 1., 1., 1., 1.],\n",
       "       [1., 1., 1., 1., 1., 1., 1., 1., 1., 1.],\n",
       "       [1., 1., 1., 1., 1., 1., 1., 1., 1., 1.],\n",
       "       [1., 1., 1., 1., 1., 1., 1., 1., 1., 1.]])"
      ]
     },
     "execution_count": 57,
     "metadata": {},
     "output_type": "execute_result"
    }
   ],
   "source": [
    "zeros_array = numpy.ones((10, 10))\n",
    "zeros_array"
   ]
  },
  {
   "cell_type": "code",
   "execution_count": 59,
   "id": "e62d3b4e-6402-4ac5-907a-20e2d40e58cc",
   "metadata": {},
   "outputs": [
    {
     "data": {
      "text/plain": [
       "3.0"
      ]
     },
     "execution_count": 59,
     "metadata": {},
     "output_type": "execute_result"
    }
   ],
   "source": [
    "numpy.sqrt(9)"
   ]
  },
  {
   "cell_type": "markdown",
   "id": "6b9c7a82-8714-4d88-97cc-2dc22ef4a616",
   "metadata": {},
   "source": [
    "### Part 4: Visualization"
   ]
  },
  {
   "cell_type": "markdown",
   "id": "474ffc45-4611-4e25-ba95-6410d014944c",
   "metadata": {},
   "source": [
    "#### 1- Matplolib"
   ]
  },
  {
   "cell_type": "code",
   "execution_count": 60,
   "id": "738f9615-bb72-4ea2-8a56-eeede47d43ec",
   "metadata": {},
   "outputs": [],
   "source": [
    "import matplotlib.pyplot as plt"
   ]
  },
  {
   "cell_type": "markdown",
   "id": "dafb672e-4804-4090-897c-a1c4d79b875b",
   "metadata": {},
   "source": [
    "#### Visualizing a Tabular Data"
   ]
  },
  {
   "cell_type": "code",
   "execution_count": 66,
   "id": "97c76ae1-4db8-4566-985b-021073c1d38a",
   "metadata": {},
   "outputs": [
    {
     "data": {
      "image/png": "[encoded data removed]",
      "text/plain": [
       "<Figure size 640x480 with 1 Axes>"
      ]
     },
     "metadata": {},
     "output_type": "display_data"
    }
   ],
   "source": [
    "image = plt.imshow(inflammation_data)\n",
    "plt.show()"
   ]
  },
  {
   "cell_type": "code",
   "execution_count": 69,
   "id": "46e3ab1c-37e9-4b16-b766-77ab93dc8e5a",
   "metadata": {},
   "outputs": [],
   "source": [
    "x = [1, 2, 3, 4, 5, 6, 7, 8, 9, 10]\n",
    "y = [3, 4, 2, 6, 7, 3, 5, 9, 10, 11]"
   ]
  },
  {
   "cell_type": "markdown",
   "id": "85575437-79b2-4037-a3db-f957b221a83c",
   "metadata": {},
   "source": [
    "#### Scatter Plot"
   ]
  },
  {
   "cell_type": "code",
   "execution_count": 78,
   "id": "ec6004b1-2cfc-4698-aa1f-df2848b2f78b",
   "metadata": {},
   "outputs": [
    {
     "data": {
      "image/png": "[encoded data removed]",
      "text/plain": [
       "<Figure size 640x480 with 1 Axes>"
      ]
     },
     "metadata": {},
     "output_type": "display_data"
    }
   ],
   "source": [
    "plt.scatter(x, y, s = 60, c = 'red', edgecolor = 'black', alpha = 0.7)\n",
    "plt.show()"
   ]
  },
  {
   "cell_type": "markdown",
   "id": "35451907-2524-4832-88c1-a3e7b751e5bb",
   "metadata": {},
   "source": [
    "#### Line plots"
   ]
  },
  {
   "cell_type": "code",
   "execution_count": 82,
   "id": "9e749ffa-18c5-4902-87df-bf85adef2a39",
   "metadata": {},
   "outputs": [
    {
     "data": {
      "image/png": "[encoded data removed]",
      "text/plain": [
       "<Figure size 640x480 with 1 Axes>"
      ]
     },
     "metadata": {},
     "output_type": "display_data"
    }
   ],
   "source": [
    "plt.plot(x, y, c = 'green', linewidth = 3, alpha = 0.3)\n",
    "plt.show()"
   ]
  },
  {
   "cell_type": "code",
   "execution_count": 84,
   "id": "fb0b7c7c-e71b-48dd-933f-c77d64883e3e",
   "metadata": {},
   "outputs": [
    {
     "data": {
      "text/plain": [
       "(array([ 0.        ,  0.45      ,  1.11666667,  1.75      ,  2.43333333,\n",
       "         3.15      ,  3.8       ,  3.88333333,  5.23333333,  5.51666667,\n",
       "         5.95      ,  5.9       ,  8.35      ,  7.73333333,  8.36666667,\n",
       "         9.5       ,  9.58333333, 10.63333333, 11.56666667, 12.35      ,\n",
       "        13.25      , 11.96666667, 11.03333333, 10.16666667, 10.        ,\n",
       "         8.66666667,  9.15      ,  7.25      ,  7.33333333,  6.58333333,\n",
       "         6.06666667,  5.95      ,  5.11666667,  3.6       ,  3.3       ,\n",
       "         3.56666667,  2.48333333,  1.5       ,  1.13333333,  0.56666667]),\n",
       " 40)"
      ]
     },
     "execution_count": 84,
     "metadata": {},
     "output_type": "execute_result"
    }
   ],
   "source": [
    "avg_inflammation = numpy.mean(inflammation_data, axis = 0)\n",
    "avg_inflammation, len(avg_inflammation)"
   ]
  },
  {
   "cell_type": "code",
   "execution_count": 89,
   "id": "fd603ff6-04b7-4d66-80d8-90ddc84cef0a",
   "metadata": {},
   "outputs": [
    {
     "data": {
      "image/png": "[encoded data removed]",
      "text/plain": [
       "<Figure size 640x480 with 1 Axes>"
      ]
     },
     "metadata": {},
     "output_type": "display_data"
    }
   ],
   "source": [
    "plt.plot(avg_inflammation)\n",
    "plt.xlabel('column number', fontsize = 16)\n",
    "plt.ylabel('average value', fontsize = 12)\n",
    "plt.title('avg value vs. column number')\n",
    "plt.show()"
   ]
  },
  {
   "cell_type": "markdown",
   "id": "45437616-8a56-4cf2-8553-4fa9b4f178de",
   "metadata": {},
   "source": [
    "#### pandas package: handling tabular data"
   ]
  },
  {
   "cell_type": "code",
   "execution_count": 90,
   "id": "510b224b-9f84-4697-8d35-53e59e07d6fb",
   "metadata": {},
   "outputs": [],
   "source": [
    "import pandas as pd"
   ]
  },
  {
   "cell_type": "code",
   "execution_count": 91,
   "id": "e7a8363d-1b6a-42cb-bbd8-d27994dd2bdb",
   "metadata": {},
   "outputs": [],
   "source": [
    "data_frame = pd.read_csv('housing.csv') "
   ]
  },
  {
   "cell_type": "code",
   "execution_count": 92,
   "id": "aca62900-dfda-47cd-be37-1181dff41cd6",
   "metadata": {},
   "outputs": [
    {
     "data": {
      "text/html": [
       "<div>\n",
       "<style scoped>\n",
       "    .dataframe tbody tr th:only-of-type {\n",
       "        vertical-align: middle;\n",
       "    }\n",
       "\n",
       "    .dataframe tbody tr th {\n",
       "        vertical-align: top;\n",
       "    }\n",
       "\n",
       "    .dataframe thead th {\n",
       "        text-align: right;\n",
       "    }\n",
       "</style>\n",
       "<table border=\"1\" class=\"dataframe\">\n",
       "  <thead>\n",
       "    <tr style=\"text-align: right;\">\n",
       "      <th></th>\n",
       "      <th>Unnamed: 0</th>\n",
       "      <th>Land Square Feet</th>\n",
       "      <th>Central Heating</th>\n",
       "      <th>Other Heating</th>\n",
       "      <th>Central Air</th>\n",
       "      <th>Fireplaces</th>\n",
       "      <th>Construction Quality</th>\n",
       "      <th>Site Desirability</th>\n",
       "      <th>Porch</th>\n",
       "      <th>Building Square Feet</th>\n",
       "      <th>Repair Condition</th>\n",
       "      <th>Estimate (Land)</th>\n",
       "      <th>Estimate (Building)</th>\n",
       "      <th>Sale Price</th>\n",
       "      <th>Age</th>\n",
       "      <th>O'Hare Noise</th>\n",
       "      <th>Sale Year</th>\n",
       "      <th>Garage Indicator</th>\n",
       "      <th>Bedrooms</th>\n",
       "      <th>Bathrooms</th>\n",
       "    </tr>\n",
       "  </thead>\n",
       "  <tbody>\n",
       "    <tr>\n",
       "      <th>0</th>\n",
       "      <td>0</td>\n",
       "      <td>3780.0</td>\n",
       "      <td>2.0</td>\n",
       "      <td>5.0</td>\n",
       "      <td>0.0</td>\n",
       "      <td>1.0</td>\n",
       "      <td>2.0</td>\n",
       "      <td>2.0</td>\n",
       "      <td>1</td>\n",
       "      <td>997.0</td>\n",
       "      <td>2.0</td>\n",
       "      <td>49140</td>\n",
       "      <td>177500</td>\n",
       "      <td>285000</td>\n",
       "      <td>96</td>\n",
       "      <td>0.0</td>\n",
       "      <td>2018</td>\n",
       "      <td>1.0</td>\n",
       "      <td>3</td>\n",
       "      <td>1</td>\n",
       "    </tr>\n",
       "    <tr>\n",
       "      <th>1</th>\n",
       "      <td>1</td>\n",
       "      <td>4375.0</td>\n",
       "      <td>1.0</td>\n",
       "      <td>5.0</td>\n",
       "      <td>0.0</td>\n",
       "      <td>0.0</td>\n",
       "      <td>2.0</td>\n",
       "      <td>2.0</td>\n",
       "      <td>3</td>\n",
       "      <td>907.0</td>\n",
       "      <td>2.0</td>\n",
       "      <td>26250</td>\n",
       "      <td>63470</td>\n",
       "      <td>22000</td>\n",
       "      <td>112</td>\n",
       "      <td>0.0</td>\n",
       "      <td>2016</td>\n",
       "      <td>1.0</td>\n",
       "      <td>3</td>\n",
       "      <td>1</td>\n",
       "    </tr>\n",
       "    <tr>\n",
       "      <th>2</th>\n",
       "      <td>2</td>\n",
       "      <td>4375.0</td>\n",
       "      <td>1.0</td>\n",
       "      <td>5.0</td>\n",
       "      <td>1.0</td>\n",
       "      <td>1.0</td>\n",
       "      <td>2.0</td>\n",
       "      <td>2.0</td>\n",
       "      <td>3</td>\n",
       "      <td>1174.0</td>\n",
       "      <td>2.0</td>\n",
       "      <td>29530</td>\n",
       "      <td>194430</td>\n",
       "      <td>225000</td>\n",
       "      <td>63</td>\n",
       "      <td>0.0</td>\n",
       "      <td>2013</td>\n",
       "      <td>1.0</td>\n",
       "      <td>3</td>\n",
       "      <td>1</td>\n",
       "    </tr>\n",
       "    <tr>\n",
       "      <th>3</th>\n",
       "      <td>3</td>\n",
       "      <td>8400.0</td>\n",
       "      <td>2.0</td>\n",
       "      <td>5.0</td>\n",
       "      <td>0.0</td>\n",
       "      <td>0.0</td>\n",
       "      <td>2.0</td>\n",
       "      <td>2.0</td>\n",
       "      <td>3</td>\n",
       "      <td>949.0</td>\n",
       "      <td>2.0</td>\n",
       "      <td>23100</td>\n",
       "      <td>30160</td>\n",
       "      <td>22600</td>\n",
       "      <td>63</td>\n",
       "      <td>0.0</td>\n",
       "      <td>2016</td>\n",
       "      <td>1.0</td>\n",
       "      <td>2</td>\n",
       "      <td>1</td>\n",
       "    </tr>\n",
       "    <tr>\n",
       "      <th>4</th>\n",
       "      <td>4</td>\n",
       "      <td>10890.0</td>\n",
       "      <td>1.0</td>\n",
       "      <td>5.0</td>\n",
       "      <td>1.0</td>\n",
       "      <td>0.0</td>\n",
       "      <td>2.0</td>\n",
       "      <td>2.0</td>\n",
       "      <td>3</td>\n",
       "      <td>1734.0</td>\n",
       "      <td>2.0</td>\n",
       "      <td>35390</td>\n",
       "      <td>65450</td>\n",
       "      <td>100000</td>\n",
       "      <td>109</td>\n",
       "      <td>0.0</td>\n",
       "      <td>2017</td>\n",
       "      <td>1.0</td>\n",
       "      <td>4</td>\n",
       "      <td>1</td>\n",
       "    </tr>\n",
       "    <tr>\n",
       "      <th>...</th>\n",
       "      <td>...</td>\n",
       "      <td>...</td>\n",
       "      <td>...</td>\n",
       "      <td>...</td>\n",
       "      <td>...</td>\n",
       "      <td>...</td>\n",
       "      <td>...</td>\n",
       "      <td>...</td>\n",
       "      <td>...</td>\n",
       "      <td>...</td>\n",
       "      <td>...</td>\n",
       "      <td>...</td>\n",
       "      <td>...</td>\n",
       "      <td>...</td>\n",
       "      <td>...</td>\n",
       "      <td>...</td>\n",
       "      <td>...</td>\n",
       "      <td>...</td>\n",
       "      <td>...</td>\n",
       "      <td>...</td>\n",
       "    </tr>\n",
       "    <tr>\n",
       "      <th>158317</th>\n",
       "      <td>158317</td>\n",
       "      <td>4375.0</td>\n",
       "      <td>1.0</td>\n",
       "      <td>5.0</td>\n",
       "      <td>0.0</td>\n",
       "      <td>0.0</td>\n",
       "      <td>2.0</td>\n",
       "      <td>2.0</td>\n",
       "      <td>3</td>\n",
       "      <td>910.0</td>\n",
       "      <td>2.0</td>\n",
       "      <td>19680</td>\n",
       "      <td>86190</td>\n",
       "      <td>37100</td>\n",
       "      <td>58</td>\n",
       "      <td>0.0</td>\n",
       "      <td>2014</td>\n",
       "      <td>1.0</td>\n",
       "      <td>2</td>\n",
       "      <td>1</td>\n",
       "    </tr>\n",
       "    <tr>\n",
       "      <th>158318</th>\n",
       "      <td>158318</td>\n",
       "      <td>16509.0</td>\n",
       "      <td>1.0</td>\n",
       "      <td>5.0</td>\n",
       "      <td>1.0</td>\n",
       "      <td>1.0</td>\n",
       "      <td>2.0</td>\n",
       "      <td>2.0</td>\n",
       "      <td>1</td>\n",
       "      <td>2005.0</td>\n",
       "      <td>2.0</td>\n",
       "      <td>297160</td>\n",
       "      <td>203580</td>\n",
       "      <td>225000</td>\n",
       "      <td>93</td>\n",
       "      <td>0.0</td>\n",
       "      <td>2019</td>\n",
       "      <td>1.0</td>\n",
       "      <td>4</td>\n",
       "      <td>1</td>\n",
       "    </tr>\n",
       "    <tr>\n",
       "      <th>158319</th>\n",
       "      <td>158319</td>\n",
       "      <td>3810.0</td>\n",
       "      <td>1.0</td>\n",
       "      <td>5.0</td>\n",
       "      <td>1.0</td>\n",
       "      <td>0.0</td>\n",
       "      <td>2.0</td>\n",
       "      <td>2.0</td>\n",
       "      <td>3</td>\n",
       "      <td>912.0</td>\n",
       "      <td>2.0</td>\n",
       "      <td>26670</td>\n",
       "      <td>81250</td>\n",
       "      <td>135000</td>\n",
       "      <td>59</td>\n",
       "      <td>0.0</td>\n",
       "      <td>2014</td>\n",
       "      <td>1.0</td>\n",
       "      <td>3</td>\n",
       "      <td>2</td>\n",
       "    </tr>\n",
       "    <tr>\n",
       "      <th>158320</th>\n",
       "      <td>158320</td>\n",
       "      <td>6650.0</td>\n",
       "      <td>1.0</td>\n",
       "      <td>5.0</td>\n",
       "      <td>0.0</td>\n",
       "      <td>0.0</td>\n",
       "      <td>2.0</td>\n",
       "      <td>2.0</td>\n",
       "      <td>3</td>\n",
       "      <td>1203.0</td>\n",
       "      <td>2.0</td>\n",
       "      <td>44880</td>\n",
       "      <td>231940</td>\n",
       "      <td>392000</td>\n",
       "      <td>60</td>\n",
       "      <td>0.0</td>\n",
       "      <td>2018</td>\n",
       "      <td>1.0</td>\n",
       "      <td>3</td>\n",
       "      <td>1</td>\n",
       "    </tr>\n",
       "    <tr>\n",
       "      <th>158321</th>\n",
       "      <td>158321</td>\n",
       "      <td>2500.0</td>\n",
       "      <td>1.0</td>\n",
       "      <td>5.0</td>\n",
       "      <td>0.0</td>\n",
       "      <td>0.0</td>\n",
       "      <td>2.0</td>\n",
       "      <td>2.0</td>\n",
       "      <td>3</td>\n",
       "      <td>1040.0</td>\n",
       "      <td>2.0</td>\n",
       "      <td>21250</td>\n",
       "      <td>116230</td>\n",
       "      <td>125000</td>\n",
       "      <td>47</td>\n",
       "      <td>0.0</td>\n",
       "      <td>2014</td>\n",
       "      <td>0.0</td>\n",
       "      <td>2</td>\n",
       "      <td>1</td>\n",
       "    </tr>\n",
       "  </tbody>\n",
       "</table>\n",
       "<p>158322 rows × 20 columns</p>\n",
       "</div>"
      ],
      "text/plain": [
       "        Unnamed: 0  Land Square Feet  Central Heating  Other Heating  \\\n",
       "0                0            3780.0              2.0            5.0   \n",
       "1                1            4375.0              1.0            5.0   \n",
       "2                2            4375.0              1.0            5.0   \n",
       "3                3            8400.0              2.0            5.0   \n",
       "4                4           10890.0              1.0            5.0   \n",
       "...            ...               ...              ...            ...   \n",
       "158317      158317            4375.0              1.0            5.0   \n",
       "158318      158318           16509.0              1.0            5.0   \n",
       "158319      158319            3810.0              1.0            5.0   \n",
       "158320      158320            6650.0              1.0            5.0   \n",
       "158321      158321            2500.0              1.0            5.0   \n",
       "\n",
       "        Central Air  Fireplaces  Construction Quality  Site Desirability  \\\n",
       "0               0.0         1.0                   2.0                2.0   \n",
       "1               0.0         0.0                   2.0                2.0   \n",
       "2               1.0         1.0                   2.0                2.0   \n",
       "3               0.0         0.0                   2.0                2.0   \n",
       "4               1.0         0.0                   2.0                2.0   \n",
       "...             ...         ...                   ...                ...   \n",
       "158317          0.0         0.0                   2.0                2.0   \n",
       "158318          1.0         1.0                   2.0                2.0   \n",
       "158319          1.0         0.0                   2.0                2.0   \n",
       "158320          0.0         0.0                   2.0                2.0   \n",
       "158321          0.0         0.0                   2.0                2.0   \n",
       "\n",
       "        Porch  Building Square Feet  Repair Condition  Estimate (Land)  \\\n",
       "0           1                 997.0               2.0            49140   \n",
       "1           3                 907.0               2.0            26250   \n",
       "2           3                1174.0               2.0            29530   \n",
       "3           3                 949.0               2.0            23100   \n",
       "4           3                1734.0               2.0            35390   \n",
       "...       ...                   ...               ...              ...   \n",
       "158317      3                 910.0               2.0            19680   \n",
       "158318      1                2005.0               2.0           297160   \n",
       "158319      3                 912.0               2.0            26670   \n",
       "158320      3                1203.0               2.0            44880   \n",
       "158321      3                1040.0               2.0            21250   \n",
       "\n",
       "        Estimate (Building)  Sale Price  Age  O'Hare Noise  Sale Year  \\\n",
       "0                    177500      285000   96           0.0       2018   \n",
       "1                     63470       22000  112           0.0       2016   \n",
       "2                    194430      225000   63           0.0       2013   \n",
       "3                     30160       22600   63           0.0       2016   \n",
       "4                     65450      100000  109           0.0       2017   \n",
       "...                     ...         ...  ...           ...        ...   \n",
       "158317                86190       37100   58           0.0       2014   \n",
       "158318               203580      225000   93           0.0       2019   \n",
       "158319                81250      135000   59           0.0       2014   \n",
       "158320               231940      392000   60           0.0       2018   \n",
       "158321               116230      125000   47           0.0       2014   \n",
       "\n",
       "        Garage Indicator  Bedrooms  Bathrooms  \n",
       "0                    1.0         3          1  \n",
       "1                    1.0         3          1  \n",
       "2                    1.0         3          1  \n",
       "3                    1.0         2          1  \n",
       "4                    1.0         4          1  \n",
       "...                  ...       ...        ...  \n",
       "158317               1.0         2          1  \n",
       "158318               1.0         4          1  \n",
       "158319               1.0         3          2  \n",
       "158320               1.0         3          1  \n",
       "158321               0.0         2          1  \n",
       "\n",
       "[158322 rows x 20 columns]"
      ]
     },
     "execution_count": 92,
     "metadata": {},
     "output_type": "execute_result"
    }
   ],
   "source": [
    "data_frame"
   ]
  },
  {
   "cell_type": "code",
   "execution_count": 94,
   "id": "90ce9cbb-a874-4c45-9729-41ef0eeab3dc",
   "metadata": {},
   "outputs": [
    {
     "data": {
      "text/html": [
       "<div>\n",
       "<style scoped>\n",
       "    .dataframe tbody tr th:only-of-type {\n",
       "        vertical-align: middle;\n",
       "    }\n",
       "\n",
       "    .dataframe tbody tr th {\n",
       "        vertical-align: top;\n",
       "    }\n",
       "\n",
       "    .dataframe thead th {\n",
       "        text-align: right;\n",
       "    }\n",
       "</style>\n",
       "<table border=\"1\" class=\"dataframe\">\n",
       "  <thead>\n",
       "    <tr style=\"text-align: right;\">\n",
       "      <th></th>\n",
       "      <th>Unnamed: 0</th>\n",
       "      <th>Land Square Feet</th>\n",
       "      <th>Central Heating</th>\n",
       "      <th>Other Heating</th>\n",
       "      <th>Central Air</th>\n",
       "      <th>Fireplaces</th>\n",
       "      <th>Construction Quality</th>\n",
       "      <th>Site Desirability</th>\n",
       "      <th>Porch</th>\n",
       "      <th>Building Square Feet</th>\n",
       "      <th>Repair Condition</th>\n",
       "      <th>Estimate (Land)</th>\n",
       "      <th>Estimate (Building)</th>\n",
       "      <th>Sale Price</th>\n",
       "      <th>Age</th>\n",
       "      <th>O'Hare Noise</th>\n",
       "      <th>Sale Year</th>\n",
       "      <th>Garage Indicator</th>\n",
       "      <th>Bedrooms</th>\n",
       "      <th>Bathrooms</th>\n",
       "    </tr>\n",
       "  </thead>\n",
       "  <tbody>\n",
       "    <tr>\n",
       "      <th>0</th>\n",
       "      <td>0</td>\n",
       "      <td>3780.0</td>\n",
       "      <td>2.0</td>\n",
       "      <td>5.0</td>\n",
       "      <td>0.0</td>\n",
       "      <td>1.0</td>\n",
       "      <td>2.0</td>\n",
       "      <td>2.0</td>\n",
       "      <td>1</td>\n",
       "      <td>997.0</td>\n",
       "      <td>2.0</td>\n",
       "      <td>49140</td>\n",
       "      <td>177500</td>\n",
       "      <td>285000</td>\n",
       "      <td>96</td>\n",
       "      <td>0.0</td>\n",
       "      <td>2018</td>\n",
       "      <td>1.0</td>\n",
       "      <td>3</td>\n",
       "      <td>1</td>\n",
       "    </tr>\n",
       "    <tr>\n",
       "      <th>1</th>\n",
       "      <td>1</td>\n",
       "      <td>4375.0</td>\n",
       "      <td>1.0</td>\n",
       "      <td>5.0</td>\n",
       "      <td>0.0</td>\n",
       "      <td>0.0</td>\n",
       "      <td>2.0</td>\n",
       "      <td>2.0</td>\n",
       "      <td>3</td>\n",
       "      <td>907.0</td>\n",
       "      <td>2.0</td>\n",
       "      <td>26250</td>\n",
       "      <td>63470</td>\n",
       "      <td>22000</td>\n",
       "      <td>112</td>\n",
       "      <td>0.0</td>\n",
       "      <td>2016</td>\n",
       "      <td>1.0</td>\n",
       "      <td>3</td>\n",
       "      <td>1</td>\n",
       "    </tr>\n",
       "    <tr>\n",
       "      <th>2</th>\n",
       "      <td>2</td>\n",
       "      <td>4375.0</td>\n",
       "      <td>1.0</td>\n",
       "      <td>5.0</td>\n",
       "      <td>1.0</td>\n",
       "      <td>1.0</td>\n",
       "      <td>2.0</td>\n",
       "      <td>2.0</td>\n",
       "      <td>3</td>\n",
       "      <td>1174.0</td>\n",
       "      <td>2.0</td>\n",
       "      <td>29530</td>\n",
       "      <td>194430</td>\n",
       "      <td>225000</td>\n",
       "      <td>63</td>\n",
       "      <td>0.0</td>\n",
       "      <td>2013</td>\n",
       "      <td>1.0</td>\n",
       "      <td>3</td>\n",
       "      <td>1</td>\n",
       "    </tr>\n",
       "    <tr>\n",
       "      <th>3</th>\n",
       "      <td>3</td>\n",
       "      <td>8400.0</td>\n",
       "      <td>2.0</td>\n",
       "      <td>5.0</td>\n",
       "      <td>0.0</td>\n",
       "      <td>0.0</td>\n",
       "      <td>2.0</td>\n",
       "      <td>2.0</td>\n",
       "      <td>3</td>\n",
       "      <td>949.0</td>\n",
       "      <td>2.0</td>\n",
       "      <td>23100</td>\n",
       "      <td>30160</td>\n",
       "      <td>22600</td>\n",
       "      <td>63</td>\n",
       "      <td>0.0</td>\n",
       "      <td>2016</td>\n",
       "      <td>1.0</td>\n",
       "      <td>2</td>\n",
       "      <td>1</td>\n",
       "    </tr>\n",
       "    <tr>\n",
       "      <th>4</th>\n",
       "      <td>4</td>\n",
       "      <td>10890.0</td>\n",
       "      <td>1.0</td>\n",
       "      <td>5.0</td>\n",
       "      <td>1.0</td>\n",
       "      <td>0.0</td>\n",
       "      <td>2.0</td>\n",
       "      <td>2.0</td>\n",
       "      <td>3</td>\n",
       "      <td>1734.0</td>\n",
       "      <td>2.0</td>\n",
       "      <td>35390</td>\n",
       "      <td>65450</td>\n",
       "      <td>100000</td>\n",
       "      <td>109</td>\n",
       "      <td>0.0</td>\n",
       "      <td>2017</td>\n",
       "      <td>1.0</td>\n",
       "      <td>4</td>\n",
       "      <td>1</td>\n",
       "    </tr>\n",
       "  </tbody>\n",
       "</table>\n",
       "</div>"
      ],
      "text/plain": [
       "   Unnamed: 0  Land Square Feet  Central Heating  Other Heating  Central Air  \\\n",
       "0           0            3780.0              2.0            5.0          0.0   \n",
       "1           1            4375.0              1.0            5.0          0.0   \n",
       "2           2            4375.0              1.0            5.0          1.0   \n",
       "3           3            8400.0              2.0            5.0          0.0   \n",
       "4           4           10890.0              1.0            5.0          1.0   \n",
       "\n",
       "   Fireplaces  Construction Quality  Site Desirability  Porch  \\\n",
       "0         1.0                   2.0                2.0      1   \n",
       "1         0.0                   2.0                2.0      3   \n",
       "2         1.0                   2.0                2.0      3   \n",
       "3         0.0                   2.0                2.0      3   \n",
       "4         0.0                   2.0                2.0      3   \n",
       "\n",
       "   Building Square Feet  Repair Condition  Estimate (Land)  \\\n",
       "0                 997.0               2.0            49140   \n",
       "1                 907.0               2.0            26250   \n",
       "2                1174.0               2.0            29530   \n",
       "3                 949.0               2.0            23100   \n",
       "4                1734.0               2.0            35390   \n",
       "\n",
       "   Estimate (Building)  Sale Price  Age  O'Hare Noise  Sale Year  \\\n",
       "0               177500      285000   96           0.0       2018   \n",
       "1                63470       22000  112           0.0       2016   \n",
       "2               194430      225000   63           0.0       2013   \n",
       "3                30160       22600   63           0.0       2016   \n",
       "4                65450      100000  109           0.0       2017   \n",
       "\n",
       "   Garage Indicator  Bedrooms  Bathrooms  \n",
       "0               1.0         3          1  \n",
       "1               1.0         3          1  \n",
       "2               1.0         3          1  \n",
       "3               1.0         2          1  \n",
       "4               1.0         4          1  "
      ]
     },
     "execution_count": 94,
     "metadata": {},
     "output_type": "execute_result"
    }
   ],
   "source": [
    "data_frame.head()"
   ]
  },
  {
   "cell_type": "code",
   "execution_count": 95,
   "id": "304fc27a-c6e5-46f8-b2f6-cd146078a860",
   "metadata": {},
   "outputs": [
    {
     "name": "stdout",
     "output_type": "stream",
     "text": [
      "<class 'pandas.core.frame.DataFrame'>\n",
      "RangeIndex: 158322 entries, 0 to 158321\n",
      "Data columns (total 20 columns):\n",
      " #   Column                Non-Null Count   Dtype  \n",
      "---  ------                --------------   -----  \n",
      " 0   Unnamed: 0            158322 non-null  int64  \n",
      " 1   Land Square Feet      158322 non-null  float64\n",
      " 2   Central Heating       158322 non-null  float64\n",
      " 3   Other Heating         158322 non-null  float64\n",
      " 4   Central Air           158322 non-null  float64\n",
      " 5   Fireplaces            158322 non-null  float64\n",
      " 6   Construction Quality  158322 non-null  float64\n",
      " 7   Site Desirability     158322 non-null  float64\n",
      " 8   Porch                 158322 non-null  int64  \n",
      " 9   Building Square Feet  158322 non-null  float64\n",
      " 10  Repair Condition      158322 non-null  float64\n",
      " 11  Estimate (Land)       158322 non-null  int64  \n",
      " 12  Estimate (Building)   158322 non-null  int64  \n",
      " 13  Sale Price            158322 non-null  int64  \n",
      " 14  Age                   158322 non-null  int64  \n",
      " 15  O'Hare Noise          158322 non-null  float64\n",
      " 16  Sale Year             158322 non-null  int64  \n",
      " 17  Garage Indicator      158322 non-null  float64\n",
      " 18  Bedrooms              158322 non-null  int64  \n",
      " 19  Bathrooms             158322 non-null  int64  \n",
      "dtypes: float64(11), int64(9)\n",
      "memory usage: 24.2 MB\n"
     ]
    }
   ],
   "source": [
    "data_frame.info()"
   ]
  },
  {
   "cell_type": "code",
   "execution_count": 96,
   "id": "803eae49-7143-4987-9827-09a534dc93a1",
   "metadata": {},
   "outputs": [
    {
     "data": {
      "text/plain": [
       "0          96\n",
       "1         112\n",
       "2          63\n",
       "3          63\n",
       "4         109\n",
       "         ... \n",
       "158317     58\n",
       "158318     93\n",
       "158319     59\n",
       "158320     60\n",
       "158321     47\n",
       "Name: Age, Length: 158322, dtype: int64"
      ]
     },
     "execution_count": 96,
     "metadata": {},
     "output_type": "execute_result"
    }
   ],
   "source": [
    "data_frame['Age']"
   ]
  },
  {
   "cell_type": "code",
   "execution_count": 97,
   "id": "58014719-756f-495b-812d-63db98f0e1fc",
   "metadata": {},
   "outputs": [
    {
     "data": {
      "text/html": [
       "<div>\n",
       "<style scoped>\n",
       "    .dataframe tbody tr th:only-of-type {\n",
       "        vertical-align: middle;\n",
       "    }\n",
       "\n",
       "    .dataframe tbody tr th {\n",
       "        vertical-align: top;\n",
       "    }\n",
       "\n",
       "    .dataframe thead th {\n",
       "        text-align: right;\n",
       "    }\n",
       "</style>\n",
       "<table border=\"1\" class=\"dataframe\">\n",
       "  <thead>\n",
       "    <tr style=\"text-align: right;\">\n",
       "      <th></th>\n",
       "      <th>Unnamed: 0</th>\n",
       "      <th>Land Square Feet</th>\n",
       "      <th>Central Heating</th>\n",
       "      <th>Other Heating</th>\n",
       "      <th>Central Air</th>\n",
       "      <th>Fireplaces</th>\n",
       "      <th>Construction Quality</th>\n",
       "      <th>Site Desirability</th>\n",
       "      <th>Porch</th>\n",
       "      <th>Building Square Feet</th>\n",
       "      <th>Repair Condition</th>\n",
       "      <th>Estimate (Land)</th>\n",
       "      <th>Estimate (Building)</th>\n",
       "      <th>Sale Price</th>\n",
       "      <th>Age</th>\n",
       "      <th>O'Hare Noise</th>\n",
       "      <th>Sale Year</th>\n",
       "      <th>Garage Indicator</th>\n",
       "      <th>Bedrooms</th>\n",
       "      <th>Bathrooms</th>\n",
       "    </tr>\n",
       "  </thead>\n",
       "  <tbody>\n",
       "    <tr>\n",
       "      <th>count</th>\n",
       "      <td>158322.000000</td>\n",
       "      <td>1.583220e+05</td>\n",
       "      <td>158322.000000</td>\n",
       "      <td>158322.000000</td>\n",
       "      <td>158322.000000</td>\n",
       "      <td>158322.000000</td>\n",
       "      <td>158322.000000</td>\n",
       "      <td>158322.000000</td>\n",
       "      <td>158322.000000</td>\n",
       "      <td>158322.000000</td>\n",
       "      <td>158322.000000</td>\n",
       "      <td>1.583220e+05</td>\n",
       "      <td>1.583220e+05</td>\n",
       "      <td>158322.000000</td>\n",
       "      <td>158322.000000</td>\n",
       "      <td>158322.000000</td>\n",
       "      <td>158322.000000</td>\n",
       "      <td>158322.000000</td>\n",
       "      <td>158322.000000</td>\n",
       "      <td>158322.000000</td>\n",
       "    </tr>\n",
       "    <tr>\n",
       "      <th>mean</th>\n",
       "      <td>79160.500000</td>\n",
       "      <td>7.847766e+03</td>\n",
       "      <td>1.129426</td>\n",
       "      <td>4.901145</td>\n",
       "      <td>0.480167</td>\n",
       "      <td>0.320903</td>\n",
       "      <td>1.991050</td>\n",
       "      <td>1.997360</td>\n",
       "      <td>2.656535</td>\n",
       "      <td>1568.412571</td>\n",
       "      <td>1.996330</td>\n",
       "      <td>4.729854e+04</td>\n",
       "      <td>1.966146e+05</td>\n",
       "      <td>259257.981348</td>\n",
       "      <td>64.875709</td>\n",
       "      <td>0.017218</td>\n",
       "      <td>2016.087916</td>\n",
       "      <td>0.885670</td>\n",
       "      <td>3.180341</td>\n",
       "      <td>1.448952</td>\n",
       "    </tr>\n",
       "    <tr>\n",
       "      <th>std</th>\n",
       "      <td>45703.768997</td>\n",
       "      <td>1.423458e+04</td>\n",
       "      <td>0.338576</td>\n",
       "      <td>0.535533</td>\n",
       "      <td>0.499608</td>\n",
       "      <td>0.530975</td>\n",
       "      <td>0.101788</td>\n",
       "      <td>0.072879</td>\n",
       "      <td>0.746351</td>\n",
       "      <td>728.465485</td>\n",
       "      <td>0.112363</td>\n",
       "      <td>3.785891e+04</td>\n",
       "      <td>1.423001e+05</td>\n",
       "      <td>191112.118526</td>\n",
       "      <td>27.487798</td>\n",
       "      <td>0.130084</td>\n",
       "      <td>1.996693</td>\n",
       "      <td>0.318213</td>\n",
       "      <td>0.814341</td>\n",
       "      <td>0.659786</td>\n",
       "    </tr>\n",
       "    <tr>\n",
       "      <th>min</th>\n",
       "      <td>0.000000</td>\n",
       "      <td>1.697381e+02</td>\n",
       "      <td>0.000000</td>\n",
       "      <td>2.000000</td>\n",
       "      <td>0.000000</td>\n",
       "      <td>0.000000</td>\n",
       "      <td>1.000000</td>\n",
       "      <td>1.000000</td>\n",
       "      <td>1.000000</td>\n",
       "      <td>392.000000</td>\n",
       "      <td>1.000000</td>\n",
       "      <td>0.000000e+00</td>\n",
       "      <td>0.000000e+00</td>\n",
       "      <td>20001.000000</td>\n",
       "      <td>1.000000</td>\n",
       "      <td>0.000000</td>\n",
       "      <td>2013.000000</td>\n",
       "      <td>0.000000</td>\n",
       "      <td>1.000000</td>\n",
       "      <td>1.000000</td>\n",
       "    </tr>\n",
       "    <tr>\n",
       "      <th>25%</th>\n",
       "      <td>39580.250000</td>\n",
       "      <td>4.000250e+03</td>\n",
       "      <td>1.000000</td>\n",
       "      <td>5.000000</td>\n",
       "      <td>0.000000</td>\n",
       "      <td>0.000000</td>\n",
       "      <td>2.000000</td>\n",
       "      <td>2.000000</td>\n",
       "      <td>3.000000</td>\n",
       "      <td>1072.000000</td>\n",
       "      <td>2.000000</td>\n",
       "      <td>2.796000e+04</td>\n",
       "      <td>1.029925e+05</td>\n",
       "      <td>126500.000000</td>\n",
       "      <td>51.000000</td>\n",
       "      <td>0.000000</td>\n",
       "      <td>2014.000000</td>\n",
       "      <td>1.000000</td>\n",
       "      <td>3.000000</td>\n",
       "      <td>1.000000</td>\n",
       "    </tr>\n",
       "    <tr>\n",
       "      <th>50%</th>\n",
       "      <td>79160.500000</td>\n",
       "      <td>6.200000e+03</td>\n",
       "      <td>1.000000</td>\n",
       "      <td>5.000000</td>\n",
       "      <td>0.000000</td>\n",
       "      <td>0.000000</td>\n",
       "      <td>2.000000</td>\n",
       "      <td>2.000000</td>\n",
       "      <td>3.000000</td>\n",
       "      <td>1322.000000</td>\n",
       "      <td>2.000000</td>\n",
       "      <td>3.772000e+04</td>\n",
       "      <td>1.607600e+05</td>\n",
       "      <td>215000.000000</td>\n",
       "      <td>62.000000</td>\n",
       "      <td>0.000000</td>\n",
       "      <td>2016.000000</td>\n",
       "      <td>1.000000</td>\n",
       "      <td>3.000000</td>\n",
       "      <td>1.000000</td>\n",
       "    </tr>\n",
       "    <tr>\n",
       "      <th>75%</th>\n",
       "      <td>118740.750000</td>\n",
       "      <td>8.692750e+03</td>\n",
       "      <td>1.000000</td>\n",
       "      <td>5.000000</td>\n",
       "      <td>1.000000</td>\n",
       "      <td>1.000000</td>\n",
       "      <td>2.000000</td>\n",
       "      <td>2.000000</td>\n",
       "      <td>3.000000</td>\n",
       "      <td>1868.000000</td>\n",
       "      <td>2.000000</td>\n",
       "      <td>5.362000e+04</td>\n",
       "      <td>2.410075e+05</td>\n",
       "      <td>337000.000000</td>\n",
       "      <td>87.000000</td>\n",
       "      <td>0.000000</td>\n",
       "      <td>2018.000000</td>\n",
       "      <td>1.000000</td>\n",
       "      <td>4.000000</td>\n",
       "      <td>2.000000</td>\n",
       "    </tr>\n",
       "    <tr>\n",
       "      <th>max</th>\n",
       "      <td>158321.000000</td>\n",
       "      <td>2.980767e+06</td>\n",
       "      <td>2.000000</td>\n",
       "      <td>5.000000</td>\n",
       "      <td>1.000000</td>\n",
       "      <td>2.000000</td>\n",
       "      <td>3.000000</td>\n",
       "      <td>3.000000</td>\n",
       "      <td>3.000000</td>\n",
       "      <td>13144.000000</td>\n",
       "      <td>3.000000</td>\n",
       "      <td>1.649340e+06</td>\n",
       "      <td>5.749100e+06</td>\n",
       "      <td>1000000.000000</td>\n",
       "      <td>169.000000</td>\n",
       "      <td>1.000000</td>\n",
       "      <td>2019.000000</td>\n",
       "      <td>1.000000</td>\n",
       "      <td>10.000000</td>\n",
       "      <td>42.000000</td>\n",
       "    </tr>\n",
       "  </tbody>\n",
       "</table>\n",
       "</div>"
      ],
      "text/plain": [
       "          Unnamed: 0  Land Square Feet  Central Heating  Other Heating  \\\n",
       "count  158322.000000      1.583220e+05    158322.000000  158322.000000   \n",
       "mean    79160.500000      7.847766e+03         1.129426       4.901145   \n",
       "std     45703.768997      1.423458e+04         0.338576       0.535533   \n",
       "min         0.000000      1.697381e+02         0.000000       2.000000   \n",
       "25%     39580.250000      4.000250e+03         1.000000       5.000000   \n",
       "50%     79160.500000      6.200000e+03         1.000000       5.000000   \n",
       "75%    118740.750000      8.692750e+03         1.000000       5.000000   \n",
       "max    158321.000000      2.980767e+06         2.000000       5.000000   \n",
       "\n",
       "         Central Air     Fireplaces  Construction Quality  Site Desirability  \\\n",
       "count  158322.000000  158322.000000         158322.000000      158322.000000   \n",
       "mean        0.480167       0.320903              1.991050           1.997360   \n",
       "std         0.499608       0.530975              0.101788           0.072879   \n",
       "min         0.000000       0.000000              1.000000           1.000000   \n",
       "25%         0.000000       0.000000              2.000000           2.000000   \n",
       "50%         0.000000       0.000000              2.000000           2.000000   \n",
       "75%         1.000000       1.000000              2.000000           2.000000   \n",
       "max         1.000000       2.000000              3.000000           3.000000   \n",
       "\n",
       "               Porch  Building Square Feet  Repair Condition  Estimate (Land)  \\\n",
       "count  158322.000000         158322.000000     158322.000000     1.583220e+05   \n",
       "mean        2.656535           1568.412571          1.996330     4.729854e+04   \n",
       "std         0.746351            728.465485          0.112363     3.785891e+04   \n",
       "min         1.000000            392.000000          1.000000     0.000000e+00   \n",
       "25%         3.000000           1072.000000          2.000000     2.796000e+04   \n",
       "50%         3.000000           1322.000000          2.000000     3.772000e+04   \n",
       "75%         3.000000           1868.000000          2.000000     5.362000e+04   \n",
       "max         3.000000          13144.000000          3.000000     1.649340e+06   \n",
       "\n",
       "       Estimate (Building)      Sale Price            Age   O'Hare Noise  \\\n",
       "count         1.583220e+05   158322.000000  158322.000000  158322.000000   \n",
       "mean          1.966146e+05   259257.981348      64.875709       0.017218   \n",
       "std           1.423001e+05   191112.118526      27.487798       0.130084   \n",
       "min           0.000000e+00    20001.000000       1.000000       0.000000   \n",
       "25%           1.029925e+05   126500.000000      51.000000       0.000000   \n",
       "50%           1.607600e+05   215000.000000      62.000000       0.000000   \n",
       "75%           2.410075e+05   337000.000000      87.000000       0.000000   \n",
       "max           5.749100e+06  1000000.000000     169.000000       1.000000   \n",
       "\n",
       "           Sale Year  Garage Indicator       Bedrooms      Bathrooms  \n",
       "count  158322.000000     158322.000000  158322.000000  158322.000000  \n",
       "mean     2016.087916          0.885670       3.180341       1.448952  \n",
       "std         1.996693          0.318213       0.814341       0.659786  \n",
       "min      2013.000000          0.000000       1.000000       1.000000  \n",
       "25%      2014.000000          1.000000       3.000000       1.000000  \n",
       "50%      2016.000000          1.000000       3.000000       1.000000  \n",
       "75%      2018.000000          1.000000       4.000000       2.000000  \n",
       "max      2019.000000          1.000000      10.000000      42.000000  "
      ]
     },
     "execution_count": 97,
     "metadata": {},
     "output_type": "execute_result"
    }
   ],
   "source": [
    "data_frame.describe()"
   ]
  },
  {
   "cell_type": "code",
   "execution_count": 98,
   "id": "537576b8-f5a9-4886-b5eb-2443375d3fe7",
   "metadata": {},
   "outputs": [
    {
     "data": {
      "image/png": "[encoded data removed]",
      "text/plain": [
       "<Figure size 640x480 with 1 Axes>"
      ]
     },
     "metadata": {},
     "output_type": "display_data"
    }
   ],
   "source": [
    "data_frame['Age'].plot(kind = 'hist')\n",
    "plt.show()"
   ]
  },
  {
   "cell_type": "code",
   "execution_count": null,
   "id": "67c58235-09cf-4f18-a9a4-2c007fbb97e3",
   "metadata": {},
   "outputs": [],
   "source": []
  }
 ],
 "metadata": {
  "kernelspec": {
   "display_name": "Python 3 (ipykernel)",
   "language": "python",
   "name": "python3"
  },
  "language_info": {
   "codemirror_mode": {
    "name": "ipython",
    "version": 3
   },
   "file_extension": ".py",
   "mimetype": "text/x-python",
   "name": "python",
   "nbconvert_exporter": "python",
   "pygments_lexer": "ipython3",
   "version": "3.11.7"
  }
 },
 "nbformat": 4,
 "nbformat_minor": 5
}
